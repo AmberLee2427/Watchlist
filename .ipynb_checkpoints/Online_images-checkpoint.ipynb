{
 "cells": [
  {
   "cell_type": "code",
   "execution_count": 8,
   "metadata": {
    "collapsed": true
   },
   "outputs": [],
   "source": [
    "from IPython.display import Image as Image2\n",
    "from IPython.display import display\n",
    "from IPython.core.display import HTML"
   ]
  },
  {
   "cell_type": "code",
   "execution_count": 25,
   "metadata": {
    "collapsed": true
   },
   "outputs": [],
   "source": [
    "def Display_two(URL1,URL2):\n",
    "\n",
    "    display(Image2(url=URL1,width = 400))\n",
    "    display(Image2(url=URL2,width = 400))"
   ]
  },
  {
   "cell_type": "code",
   "execution_count": 17,
   "metadata": {
    "collapsed": true
   },
   "outputs": [],
   "source": [
    "def get_URL(year, no, zoom=True,Colab='OGLE',region='blg'):\n",
    "    \n",
    "    if Colab == 'OGLE':\n",
    "        if zoom == True:\n",
    "            return \"http://ogle.astrouw.edu.pl/ogle4/ews/\"+year+\"/data/\"+year+\"/\"+region+\"-\"+no+\"/lcurve_s.gif\"\n",
    "        elif zoom == False:\n",
    "            pass\n",
    "    elif Colab == 'KMT':\n",
    "        return \"http://kmtnet.kasi.re.kr/~ulens/event/\"+year+\"/data/K\"+region.upper()[0]+year[-2:]+no+\"/pysis/pysis.png\""
   ]
  },
  {
   "cell_type": "code",
   "execution_count": 18,
   "metadata": {
    "collapsed": true
   },
   "outputs": [],
   "source": [
    "KMTno = \"0052\"\n",
    "OB190022_s_URL = get_URL('2019','0022',zoom=True,Colab=\"OGLE\")\n",
    "OB190022_KMT_URL = get_URL('2019','0052',zoom=True,Colab=\"KMT\")"
   ]
  },
  {
   "cell_type": "code",
   "execution_count": 26,
   "metadata": {},
   "outputs": [
    {
     "data": {
      "text/html": [
       "<style>\n",
       ".output {\n",
       "    flex-direction: row;\n",
       "}\n",
       "</style>"
      ],
      "text/plain": [
       "<IPython.core.display.HTML object>"
      ]
     },
     "execution_count": 26,
     "metadata": {},
     "output_type": "execute_result"
    }
   ],
   "source": [
    "CSS = \"\"\"\n",
    ".output {\n",
    "    flex-direction: row;\n",
    "}\n",
    "\"\"\"\n",
    "\n",
    "HTML('<style>{}</style>'.format(CSS))"
   ]
  },
  {
   "cell_type": "code",
   "execution_count": 27,
   "metadata": {},
   "outputs": [
    {
     "data": {
      "text/html": [
       "<img src=\"http://ogle.astrouw.edu.pl/ogle4/ews/2019/data/2019/blg-0022/lcurve_s.gif\" width=\"400\"/>"
      ],
      "text/plain": [
       "<IPython.core.display.Image object>"
      ]
     },
     "metadata": {},
     "output_type": "display_data"
    },
    {
     "data": {
      "text/html": [
       "<img src=\"http://kmtnet.kasi.re.kr/~ulens/event/2019/data/KB190052/pysis/pysis.png\" width=\"400\"/>"
      ],
      "text/plain": [
       "<IPython.core.display.Image object>"
      ]
     },
     "metadata": {},
     "output_type": "display_data"
    }
   ],
   "source": [
    "Display_two(OB190022_s_URL,OB190022_KMT_URL)"
   ]
  },
  {
   "cell_type": "code",
   "execution_count": null,
   "metadata": {
    "collapsed": true
   },
   "outputs": [],
   "source": []
  },
  {
   "cell_type": "markdown",
   "metadata": {},
   "source": [
    "![Image of Yaktocat](https://octodex.github.com/images/yaktocat.png)"
   ]
  },
  {
   "cell_type": "markdown",
   "metadata": {
    "collapsed": true
   },
   "source": [
    "import io\n",
    "import urllib.request\n",
    "from PIL import Image"
   ]
  },
  {
   "cell_type": "markdown",
   "metadata": {},
   "source": [
    "def get_image(URL):\n",
    "    with urllib.request.urlopen(URL) as f:\n",
    "        b = io.BytesIO(f.read())\n",
    "        im = Image.open(b)\n",
    "        return im    "
   ]
  },
  {
   "cell_type": "markdown",
   "metadata": {},
   "source": [
    "lcURL = \"http://ogle.astrouw.edu.pl/ogle4/ews/2019/data/2019/blg-0022/lcurve_s.gif\""
   ]
  },
  {
   "cell_type": "markdown",
   "metadata": {},
   "source": [
    "lc = get_image(lcURL)\n",
    "lc.show()"
   ]
  },
  {
   "cell_type": "markdown",
   "metadata": {},
   "source": [
    "OB190022_s = get_image(OB190022_s_URL)\n",
    "OB190022_s.show()"
   ]
  },
  {
   "cell_type": "code",
   "execution_count": null,
   "metadata": {
    "collapsed": true
   },
   "outputs": [],
   "source": []
  }
 ],
 "metadata": {
  "kernelspec": {
   "display_name": "Python 3",
   "language": "python",
   "name": "python3"
  },
  "language_info": {
   "codemirror_mode": {
    "name": "ipython",
    "version": 3
   },
   "file_extension": ".py",
   "mimetype": "text/x-python",
   "name": "python",
   "nbconvert_exporter": "python",
   "pygments_lexer": "ipython3",
   "version": "3.6.1"
  }
 },
 "nbformat": 4,
 "nbformat_minor": 2
}

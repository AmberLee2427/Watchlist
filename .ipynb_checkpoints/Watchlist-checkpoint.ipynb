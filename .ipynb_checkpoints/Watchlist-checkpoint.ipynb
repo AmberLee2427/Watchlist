{
 "cells": [
  {
   "cell_type": "markdown",
   "metadata": {},
   "source": [
    "# My Microlensing Event Watchlist"
   ]
  },
  {
   "cell_type": "code",
   "execution_count": 1,
   "metadata": {
    "collapsed": true
   },
   "outputs": [],
   "source": [
    "from IPython.display import Image as Image2\n",
    "from IPython.display import display\n",
    "from IPython.core.display import HTML"
   ]
  },
  {
   "cell_type": "code",
   "execution_count": 2,
   "metadata": {
    "collapsed": true
   },
   "outputs": [],
   "source": [
    "class event():\n",
    "    ''' '''\n",
    "    \n",
    "    def __init__(self,year,KMTno=None,OGLEno=None,MOAno=None,region='blg'):\n",
    "        ''' '''\n",
    "        self.KMTno = KMTno\n",
    "        self.OGLEno = OGLEno\n",
    "        self.MOAno = MOAno = None\n",
    "        self.year = year\n",
    "        self.region=region\n",
    "        \n",
    "    def get_URL(self, zoom=True,Colab='OGLE',region=None):\n",
    "        ''' '''\n",
    "        year=self.year\n",
    "        if region is None:\n",
    "            region=self.region\n",
    "        if Colab == 'OGLE':\n",
    "            no = self.OGLEno\n",
    "            if zoom == True:\n",
    "                self.OGLEURL = \"http://ogle.astrouw.edu.pl/ogle4/ews/\"+year+\"/data/\"+year+\"/\"+region+\"-\"+no+\"/lcurve_s.gif\"\n",
    "            elif zoom == False:\n",
    "                pass\n",
    "        elif Colab == 'KMT':\n",
    "            no = self.KMTno\n",
    "            self.KMTURL = \"http://kmtnet.kasi.re.kr/~ulens/event/\"+year+\"/data/K\"+region.upper()[0]+year[-2:]+no+\"/pysis/pysis.png\""
   ]
  },
  {
   "cell_type": "code",
   "execution_count": 3,
   "metadata": {},
   "outputs": [
    {
     "data": {
      "text/html": [
       "<style>.output {flex-direction: row;}</style>"
      ],
      "text/plain": [
       "<IPython.core.display.HTML object>"
      ]
     },
     "execution_count": 3,
     "metadata": {},
     "output_type": "execute_result"
    }
   ],
   "source": [
    "CSS = \"\"\".output {flex-direction: row;}\"\"\"\n",
    "HTML('<style>{}</style>'.format(CSS))"
   ]
  },
  {
   "cell_type": "markdown",
   "metadata": {},
   "source": [
    " \n",
    " \n",
    " "
   ]
  },
  {
   "cell_type": "markdown",
   "metadata": {},
   "source": [
    "## OB190540"
   ]
  },
  {
   "cell_type": "markdown",
   "metadata": {},
   "source": [
    "KB190502, MB19181"
   ]
  },
  {
   "cell_type": "code",
   "execution_count": 4,
   "metadata": {},
   "outputs": [],
   "source": [
    "KMTno = \"0502\"\n",
    "OGLEno = \"0540\"\n",
    "MOAno = \"181\"\n",
    "year = \"2019\"\n",
    "OB190022 = event(year,KMTno=KMTno,OGLEno=OGLEno,MOAno=MOAno,region='blg')\n",
    "OB190022.get_URL(zoom=True,Colab=\"OGLE\")\n",
    "OB190022.get_URL(Colab=\"KMT\")"
   ]
  },
  {
   "cell_type": "code",
   "execution_count": 5,
   "metadata": {
    "scrolled": false
   },
   "outputs": [
    {
     "data": {
      "text/html": [
       "<img src=\"http://ogle.astrouw.edu.pl/ogle4/ews/2019/data/2019/blg-0540/lcurve_s.gif\" width=\"400\"/>"
      ],
      "text/plain": [
       "<IPython.core.display.Image object>"
      ]
     },
     "metadata": {},
     "output_type": "display_data"
    },
    {
     "data": {
      "text/html": [
       "<img src=\"http://kmtnet.kasi.re.kr/~ulens/event/2019/data/KB190502/pysis/pysis.png\" width=\"400\"/>"
      ],
      "text/plain": [
       "<IPython.core.display.Image object>"
      ]
     },
     "metadata": {},
     "output_type": "display_data"
    }
   ],
   "source": [
    "display(Image2(url=OB190022.OGLEURL,width = 400))\n",
    "display(Image2(url=OB190022.KMTURL,width = 400))"
   ]
  },
  {
   "cell_type": "markdown",
   "metadata": {},
   "source": [
    "## OB190010"
   ]
  },
  {
   "cell_type": "markdown",
   "metadata": {},
   "source": [
    "KB190113"
   ]
  },
  {
   "cell_type": "code",
   "execution_count": 6,
   "metadata": {
    "collapsed": true
   },
   "outputs": [],
   "source": [
    "KMTno = \"0113\"\n",
    "OGLEno = \"0010\"\n",
    "year = \"2019\"\n",
    "OB190010 = event(year,KMTno=KMTno,OGLEno=OGLEno,region='blg')\n",
    "OB190010.get_URL(zoom=True,Colab=\"OGLE\")\n",
    "OB190010.get_URL(Colab=\"KMT\")"
   ]
  },
  {
   "cell_type": "code",
   "execution_count": 8,
   "metadata": {
    "scrolled": true
   },
   "outputs": [
    {
     "data": {
      "text/html": [
       "<img src=\"http://ogle.astrouw.edu.pl/ogle4/ews/2019/data/2019/blg-0010/lcurve_s.gif\" width=\"390\"/>"
      ],
      "text/plain": [
       "<IPython.core.display.Image object>"
      ]
     },
     "metadata": {},
     "output_type": "display_data"
    },
    {
     "data": {
      "text/html": [
       "<img src=\"http://kmtnet.kasi.re.kr/~ulens/event/2019/data/KB190113/pysis/pysis.png\" width=\"390\"/>"
      ],
      "text/plain": [
       "<IPython.core.display.Image object>"
      ]
     },
     "metadata": {},
     "output_type": "display_data"
    }
   ],
   "source": [
    "display(Image2(url=OB190010.OGLEURL,width = 390))\n",
    "display(Image2(url=OB190010.KMTURL,width = 390))"
   ]
  },
  {
   "cell_type": "markdown",
   "metadata": {},
   "source": [
    "## OB190017"
   ]
  },
  {
   "cell_type": "markdown",
   "metadata": {},
   "source": [
    "KB190036, MB19010"
   ]
  },
  {
   "cell_type": "code",
   "execution_count": 8,
   "metadata": {
    "collapsed": true
   },
   "outputs": [],
   "source": [
    "KMTno = \"0036\"\n",
    "OGLEno = \"0017\"\n",
    "MOAno = \"010\"\n",
    "year = \"2019\"\n",
    "OB190017 = event(year,KMTno=KMTno,OGLEno=OGLEno,MOAno=MOAno,region='blg')\n",
    "OB190017.get_URL(zoom=True,Colab=\"OGLE\")\n",
    "OB190017.get_URL(Colab=\"KMT\")"
   ]
  },
  {
   "cell_type": "code",
   "execution_count": 9,
   "metadata": {
    "scrolled": false
   },
   "outputs": [
    {
     "data": {
      "text/html": [
       "<img src=\"http://ogle.astrouw.edu.pl/ogle4/ews/2019/data/2019/blg-0017/lcurve_s.gif\" width=\"400\"/>"
      ],
      "text/plain": [
       "<IPython.core.display.Image object>"
      ]
     },
     "metadata": {},
     "output_type": "display_data"
    },
    {
     "data": {
      "text/html": [
       "<img src=\"http://kmtnet.kasi.re.kr/~ulens/event/2019/data/KB190036/pysis/pysis.png\" width=\"400\"/>"
      ],
      "text/plain": [
       "<IPython.core.display.Image object>"
      ]
     },
     "metadata": {},
     "output_type": "display_data"
    }
   ],
   "source": [
    "display(Image2(url=OB190017.OGLEURL,width = 400))\n",
    "display(Image2(url=OB190017.KMTURL,width = 400))"
   ]
  },
  {
   "cell_type": "markdown",
   "metadata": {},
   "source": [
    "## OB190010"
   ]
  },
  {
   "cell_type": "markdown",
   "metadata": {},
   "source": [
    "KB190113"
   ]
  },
  {
   "cell_type": "code",
   "execution_count": 6,
   "metadata": {
    "collapsed": true
   },
   "outputs": [],
   "source": [
    "KMTno = \"0113\"\n",
    "OGLEno = \"0010\"\n",
    "year = \"2019\"\n",
    "OB190010 = event(year,KMTno=KMTno,OGLEno=OGLEno,region='blg')\n",
    "OB190010.get_URL(zoom=True,Colab=\"OGLE\")\n",
    "OB190010.get_URL(Colab=\"KMT\")"
   ]
  },
  {
   "cell_type": "code",
   "execution_count": 7,
   "metadata": {
    "scrolled": true
   },
   "outputs": [
    {
     "data": {
      "text/html": [
       "<img src=\"http://ogle.astrouw.edu.pl/ogle4/ews/2019/data/2019/blg-0010/lcurve_s.gif\" width=\"400\"/>"
      ],
      "text/plain": [
       "<IPython.core.display.Image object>"
      ]
     },
     "metadata": {},
     "output_type": "display_data"
    },
    {
     "data": {
      "text/html": [
       "<img src=\"http://kmtnet.kasi.re.kr/~ulens/event/2019/data/KB190113/pysis/pysis.png\" width=\"400\"/>"
      ],
      "text/plain": [
       "<IPython.core.display.Image object>"
      ]
     },
     "metadata": {},
     "output_type": "display_data"
    }
   ],
   "source": [
    "display(Image2(url=OB190010.OGLEURL,width = 400))\n",
    "display(Image2(url=OB190010.KMTURL,width = 400))"
   ]
  },
  {
   "cell_type": "code",
   "execution_count": null,
   "metadata": {
    "collapsed": true
   },
   "outputs": [],
   "source": []
  }
 ],
 "metadata": {
  "kernelspec": {
   "display_name": "Python 3",
   "language": "python",
   "name": "python3"
  },
  "language_info": {
   "codemirror_mode": {
    "name": "ipython",
    "version": 3
   },
   "file_extension": ".py",
   "mimetype": "text/x-python",
   "name": "python",
   "nbconvert_exporter": "python",
   "pygments_lexer": "ipython3",
   "version": "3.6.1"
  }
 },
 "nbformat": 4,
 "nbformat_minor": 2
}

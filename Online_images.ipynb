{
 "cells": [
  {
   "cell_type": "code",
   "execution_count": 32,
   "metadata": {},
   "outputs": [],
   "source": [
    "import io\n",
    "import urllib.request\n",
    "from PIL import Image\n",
    "from IPython.display import Image as Image2\n",
    "from IPython.display import display\n",
    "from IPython.core.display import HTML"
   ]
  },
  {
   "cell_type": "code",
   "execution_count": 33,
   "metadata": {
    "collapsed": true
   },
   "outputs": [],
   "source": [
    "def Display_Image2():\n",
    "\n",
    "    lcURL = \"http://ogle.astrouw.edu.pl/ogle4/ews/2019/data/2019/blg-0022/lcurve_s.gif\"\n",
    "    display(Image2(url= lcURL,width = 400))"
   ]
  },
  {
   "cell_type": "code",
   "execution_count": 34,
   "metadata": {},
   "outputs": [],
   "source": [
    "def get_image(URL):\n",
    "    with urllib.request.urlopen(URL) as f:\n",
    "        b = io.BytesIO(f.read())\n",
    "        im = Image.open(b)\n",
    "        return im    "
   ]
  },
  {
   "cell_type": "code",
   "execution_count": 45,
   "metadata": {},
   "outputs": [],
   "source": [
    "def get_URL(year, no, zoom=True,Colab='OGLE',region='blg'):\n",
    "    \n",
    "    if Colab == 'OGLE':\n",
    "        if zoom == True:\n",
    "            return \"http://ogle.astrouw.edu.pl/ogle4/ews/\"+year+\"/data/\"+year+\"/\"+region+\"-\"+no+\"/lcurve_s.gif\"\n",
    "        elif zoom == False:\n",
    "            pass\n",
    "    elif Colab == 'KMT':\n",
    "        return \"http://kmtnet.kasi.re.kr/~ulens/event/\"+year+\"/data/K\"+region.upper()[0]+year[-2:]+no+\"/pysis/pysis.png\""
   ]
  },
  {
   "cell_type": "code",
   "execution_count": 43,
   "metadata": {},
   "outputs": [
    {
     "data": {
      "text/plain": [
       "'19'"
      ]
     },
     "execution_count": 43,
     "metadata": {},
     "output_type": "execute_result"
    }
   ],
   "source": []
  },
  {
   "cell_type": "code",
   "execution_count": 35,
   "metadata": {},
   "outputs": [],
   "source": [
    "lcURL = \"http://ogle.astrouw.edu.pl/ogle4/ews/2019/data/2019/blg-0022/lcurve_s.gif\""
   ]
  },
  {
   "cell_type": "code",
   "execution_count": 36,
   "metadata": {},
   "outputs": [],
   "source": [
    "lc = get_image(lcURL)\n",
    "lc.show()"
   ]
  },
  {
   "cell_type": "code",
   "execution_count": 46,
   "metadata": {},
   "outputs": [],
   "source": [
    "KMTno = \"0052\"\n",
    "OB190022_s_URL = get_URL('2019','0022',zoom=True,Colab=\"OGLE\")\n",
    "OB190022_KMT_URL = get_URL('2019','0052',zoom=True,Colab=\"KMT\")"
   ]
  },
  {
   "cell_type": "code",
   "execution_count": 31,
   "metadata": {},
   "outputs": [],
   "source": [
    "OB190022_s = get_image(OB190022_URL)\n",
    "OB190022_s.show()"
   ]
  },
  {
   "cell_type": "code",
   "execution_count": 13,
   "metadata": {},
   "outputs": [
    {
     "data": {
      "text/html": [
       "<img src=\"http://ogle.astrouw.edu.pl/ogle4/ews/2019/data/2019/blg-0022/lcurve_s.gif\" width=\"400\"/>"
      ],
      "text/plain": [
       "<IPython.core.display.Image object>"
      ]
     },
     "metadata": {},
     "output_type": "display_data"
    }
   ],
   "source": [
    "Display_Image2()"
   ]
  },
  {
   "cell_type": "markdown",
   "metadata": {},
   "source": [
    "![Image of Yaktocat](https://octodex.github.com/images/yaktocat.png)"
   ]
  },
  {
   "cell_type": "code",
   "execution_count": null,
   "metadata": {
    "collapsed": true
   },
   "outputs": [],
   "source": []
  }
 ],
 "metadata": {
  "kernelspec": {
   "display_name": "Python 3",
   "language": "python",
   "name": "python3"
  },
  "language_info": {
   "codemirror_mode": {
    "name": "ipython",
    "version": 3
   },
   "file_extension": ".py",
   "mimetype": "text/x-python",
   "name": "python",
   "nbconvert_exporter": "python",
   "pygments_lexer": "ipython3",
   "version": "3.6.1"
  }
 },
 "nbformat": 4,
 "nbformat_minor": 2
}
